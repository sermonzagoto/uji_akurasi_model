{
  "nbformat": 4,
  "nbformat_minor": 0,
  "metadata": {
    "colab": {
      "name": "Uji Coba Model.ipynb",
      "provenance": [],
      "collapsed_sections": []
    },
    "kernelspec": {
      "name": "python3",
      "display_name": "Python 3"
    }
  },
  "cells": [
    {
      "cell_type": "code",
      "metadata": {
        "id": "WarWQ81Cvtao",
        "colab_type": "code",
        "colab": {
          "base_uri": "https://localhost:8080/",
          "height": 71
        },
        "outputId": "e4ee394d-38ab-417c-bd95-6f118d5282ef"
      },
      "source": [
        "#Import library yang dibutuhkan \n",
        "import pandas as pd\n",
        "import numpy as np\n",
        "import matplotlib.pyplot as plt\n",
        "import seaborn as sns\n",
        "from sklearn.preprocessing import LabelEncoder\n",
        "from sklearn.model_selection import train_test_split\n",
        "from sklearn.metrics import confusion_matrix, classification_report\n",
        "import pickle\n",
        "from pathlib import Path"
      ],
      "execution_count": 1,
      "outputs": [
        {
          "output_type": "stream",
          "text": [
            "/usr/local/lib/python3.6/dist-packages/statsmodels/tools/_testing.py:19: FutureWarning: pandas.util.testing is deprecated. Use the functions in the public API at pandas.testing instead.\n",
            "  import pandas.util.testing as tm\n"
          ],
          "name": "stderr"
        }
      ]
    },
    {
      "cell_type": "code",
      "metadata": {
        "id": "IPWGhLQrwBo2",
        "colab_type": "code",
        "colab": {
          "base_uri": "https://localhost:8080/",
          "height": 187
        },
        "outputId": "a08d26ef-9924-4a55-d3a1-8848e4f88ccf"
      },
      "source": [
        "#import dataset\n",
        "df_load = pd.read_csv('https://dqlab-dataset.s3-ap-southeast-1.amazonaws.com/dqlab_telco_final.csv')\n",
        "\n",
        "#Tampilkan bentuk dari dataset\n",
        "print(df_load.shape)\n",
        "\n",
        "#Tampilkan 5 data teratas\n",
        "print(df_load.head())\n",
        "\n",
        "#Tampilkan jumlah ID yang unik\n",
        "print(df_load.customerID.nunique())"
      ],
      "execution_count": 2,
      "outputs": [
        {
          "output_type": "stream",
          "text": [
            "(6950, 13)\n",
            "   UpdatedAt   customerID  gender  ... MonthlyCharges TotalCharges  Churn\n",
            "0     202006  45759018157  Female  ...          29.85        29.85     No\n",
            "1     202006  45315483266    Male  ...          20.50      1198.80     No\n",
            "2     202006  45236961615    Male  ...         104.10       541.90    Yes\n",
            "3     202006  45929827382  Female  ...         115.50      8312.75     No\n",
            "4     202006  45305082233  Female  ...          81.25      4620.40     No\n",
            "\n",
            "[5 rows x 13 columns]\n",
            "6950\n"
          ],
          "name": "stdout"
        }
      ]
    },
    {
      "cell_type": "code",
      "metadata": {
        "id": "F7WWy01DwBq9",
        "colab_type": "code",
        "colab": {}
      },
      "source": [
        "#import matplotlib dan seaborn\n",
        "\n",
        "import matplotlib.pyplot as plt\n",
        "import seaborn as sns"
      ],
      "execution_count": 3,
      "outputs": []
    },
    {
      "cell_type": "code",
      "metadata": {
        "id": "bchjoLcXwBtb",
        "colab_type": "code",
        "colab": {
          "base_uri": "https://localhost:8080/",
          "height": 319
        },
        "outputId": "0bf1b9af-b2d9-43fc-c7ef-13d4171db4f6"
      },
      "source": [
        "from matplotlib import pyplot as plt\n",
        "import numpy as np\n",
        "#Your codes here\n",
        "fig = plt.figure()\n",
        "ax = fig.add_axes([0,0,1,1])\n",
        "ax.axis('equal')\n",
        "labels = ['Yes','No']\n",
        "churn = df_load.Churn.value_counts()\n",
        "ax.pie(churn, labels=labels, autopct='%.0f%%')\n",
        "plt.show()"
      ],
      "execution_count": 4,
      "outputs": [
        {
          "output_type": "display_data",
          "data": {
            "image/png": "[encoded data removed]",
            "text/plain": [
              "<Figure size 432x288 with 1 Axes>"
            ]
          },
          "metadata": {
            "tags": []
          }
        }
      ]
    },
    {
      "cell_type": "code",
      "metadata": {
        "id": "yPh2xD2nwBvT",
        "colab_type": "code",
        "colab": {
          "base_uri": "https://localhost:8080/",
          "height": 390
        },
        "outputId": "70896664-31d3-49ed-ee23-970f6f1f5157"
      },
      "source": [
        "from matplotlib import pyplot as plt\n",
        "import numpy as np\n",
        "\n",
        "#creating bin in chart\n",
        "numerical_features = ['MonthlyCharges','TotalCharges','tenure']\n",
        "fig, ax = plt.subplots(1, 3, figsize=(15, 6))\n",
        "# Use the following code to plot two overlays of histogram per each numerical_features, use a color of blue and orange, respectively\n",
        "df_load[df_load.Churn == 'No'][numerical_features].hist(bins=20, color='blue', alpha=0.5, ax=ax)\n",
        "df_load[df_load.Churn == 'Yes'][numerical_features].hist(bins=20, color='orange', alpha=0.5, ax=ax)\n",
        "plt.show()"
      ],
      "execution_count": 5,
      "outputs": [
        {
          "output_type": "display_data",
          "data": {
            "image/png": "[encoded data removed]",
            "text/plain": [
              "<Figure size 1080x432 with 3 Axes>"
            ]
          },
          "metadata": {
            "tags": [],
            "needs_background": "light"
          }
        }
      ]
    },
    {
      "cell_type": "code",
      "metadata": {
        "id": "jAhEZOmDwBxe",
        "colab_type": "code",
        "colab": {
          "base_uri": "https://localhost:8080/",
          "height": 869
        },
        "outputId": "1c00b31b-91bc-4b61-a890-05679eb46fb3"
      },
      "source": [
        "from matplotlib import pyplot as plt\n",
        "import numpy as np\n",
        "import seaborn as sns \n",
        "sns.set(style='darkgrid')\n",
        "# Your code goes here\n",
        "fig, ax = plt.subplots(3, 3, figsize=(14, 12))\n",
        "sns.countplot(data=df_load, x='gender', hue='Churn', ax=ax[0][0])\n",
        "sns.countplot(data=df_load, x='Partner', hue='Churn', ax=ax[0][1])\n",
        "sns.countplot(data=df_load, x='SeniorCitizen', hue='Churn', ax=ax[0][2])\n",
        "sns.countplot(data=df_load, x='PhoneService', hue='Churn', ax=ax[1][0])\n",
        "sns.countplot(data=df_load, x='StreamingTV', hue='Churn', ax=ax[1][1])\n",
        "sns.countplot(data=df_load, x='InternetService', hue='Churn', ax=ax[1][2])\n",
        "sns.countplot(data=df_load, x='PaperlessBilling', hue='Churn', ax=ax[2][1])\n",
        "plt.tight_layout()\n",
        "plt.show()"
      ],
      "execution_count": 6,
      "outputs": [
        {
          "output_type": "display_data",
          "data": {
            "image/png": "[encoded data removed]",
            "text/plain": [
              "<Figure size 1008x864 with 9 Axes>"
            ]
          },
          "metadata": {
            "tags": []
          }
        }
      ]
    },
    {
      "cell_type": "code",
      "metadata": {
        "id": "ETfsJczAwBzl",
        "colab_type": "code",
        "colab": {
          "base_uri": "https://localhost:8080/",
          "height": 153
        },
        "outputId": "b144ea87-07f2-48f1-a91b-bfd52994cb57"
      },
      "source": [
        "#Remove the unnecessary columns customerID & UpdatedAt\n",
        "cleaned_df = df_load.drop(['customerID','UpdatedAt'], axis=1)\n",
        "print(cleaned_df.head())"
      ],
      "execution_count": 7,
      "outputs": [
        {
          "output_type": "stream",
          "text": [
            "   gender SeniorCitizen Partner  ...  MonthlyCharges TotalCharges Churn\n",
            "0  Female            No     Yes  ...           29.85        29.85    No\n",
            "1    Male            No     Yes  ...           20.50      1198.80    No\n",
            "2    Male            No      No  ...          104.10       541.90   Yes\n",
            "3  Female            No     Yes  ...          115.50      8312.75    No\n",
            "4  Female            No     Yes  ...           81.25      4620.40    No\n",
            "\n",
            "[5 rows x 11 columns]\n"
          ],
          "name": "stdout"
        }
      ]
    },
    {
      "cell_type": "code",
      "metadata": {
        "id": "6rhxT-jAwB15",
        "colab_type": "code",
        "colab": {
          "base_uri": "https://localhost:8080/",
          "height": 204
        },
        "outputId": "0a7820d3-4c51-4970-d1af-6eeb329d3f01"
      },
      "source": [
        "from sklearn.preprocessing import LabelEncoder\n",
        "#Convert all the non-numeric columns to numerical data types\n",
        "for column in cleaned_df.columns:\n",
        "\tif cleaned_df[column].dtype == np.number: continue\n",
        "\t# Perform encoding for each non-numeric column\n",
        "\tcleaned_df[column] = LabelEncoder().fit_transform(cleaned_df[column])\n",
        "print(cleaned_df.describe())"
      ],
      "execution_count": 8,
      "outputs": [
        {
          "output_type": "stream",
          "text": [
            "            gender  SeniorCitizen  ...  TotalCharges        Churn\n",
            "count  6950.000000    6950.000000  ...   6950.000000  6950.000000\n",
            "mean      0.504317       0.162302  ...   2286.058750     0.264173\n",
            "std       0.500017       0.368754  ...   2265.702553     0.440923\n",
            "min       0.000000       0.000000  ...     19.000000     0.000000\n",
            "25%       0.000000       0.000000  ...    406.975000     0.000000\n",
            "50%       1.000000       0.000000  ...   1400.850000     0.000000\n",
            "75%       1.000000       0.000000  ...   3799.837500     1.000000\n",
            "max       1.000000       1.000000  ...   8889.131250     1.000000\n",
            "\n",
            "[8 rows x 11 columns]\n"
          ],
          "name": "stdout"
        }
      ]
    },
    {
      "cell_type": "code",
      "metadata": {
        "id": "JyDziswawB4L",
        "colab_type": "code",
        "colab": {
          "base_uri": "https://localhost:8080/",
          "height": 187
        },
        "outputId": "a4f9908c-0504-4ca4-da3e-b7c2f356a9f8"
      },
      "source": [
        "from sklearn.model_selection import train_test_split\n",
        "# Predictor dan target\n",
        "X = cleaned_df.drop('Churn', axis = 1)\n",
        "y = cleaned_df['Churn']\n",
        "# Splitting train and test\n",
        "x_train, x_test, y_train, y_test = train_test_split(X, y, test_size=0.3, random_state=42)\n",
        "# Print according to the expected result\n",
        "print('Jumlah baris dan kolom dari x_train adalah:', x_train.shape,', sedangkan Jumlah baris dan kolom dari y_train adalah:', y_train.shape)\n",
        "print('Prosentase Churn di data Training adalah:')\n",
        "print(y_train.value_counts(normalize=True))\n",
        "print('Jumlah baris dan kolom dari x_test adalah:', x_test.shape,', sedangkan Jumlah baris dan kolom dari y_test adalah:', y_test.shape)\n",
        "print('Prosentase Churn di data Testing adalah:')\n",
        "print(y_test.value_counts(normalize=True))"
      ],
      "execution_count": 9,
      "outputs": [
        {
          "output_type": "stream",
          "text": [
            "Jumlah baris dan kolom dari x_train adalah: (4865, 10) , sedangkan Jumlah baris dan kolom dari y_train adalah: (4865,)\n",
            "Prosentase Churn di data Training adalah:\n",
            "0    0.734841\n",
            "1    0.265159\n",
            "Name: Churn, dtype: float64\n",
            "Jumlah baris dan kolom dari x_test adalah: (2085, 10) , sedangkan Jumlah baris dan kolom dari y_test adalah: (2085,)\n",
            "Prosentase Churn di data Testing adalah:\n",
            "0    0.738129\n",
            "1    0.261871\n",
            "Name: Churn, dtype: float64\n"
          ],
          "name": "stdout"
        }
      ]
    },
    {
      "cell_type": "markdown",
      "metadata": {
        "id": "ejRQalMbxJ7Y",
        "colab_type": "text"
      },
      "source": [
        "### **Logistic**"
      ]
    },
    {
      "cell_type": "markdown",
      "metadata": {
        "id": "prHrjRuWxxsg",
        "colab_type": "text"
      },
      "source": [
        "Membuat model Klasifikasi menggunakan LogisticRegression"
      ]
    },
    {
      "cell_type": "code",
      "metadata": {
        "id": "8ruSGoMKwB6d",
        "colab_type": "code",
        "colab": {
          "base_uri": "https://localhost:8080/",
          "height": 255
        },
        "outputId": "54043ec3-c01f-4bb6-b250-1903ad4c56fd"
      },
      "source": [
        "from sklearn.linear_model import LogisticRegression\n",
        "log_model = LogisticRegression().fit(x_train, y_train)\n",
        "print('Model Logistic Regression yang terbentuk adalah: \\n', log_model)"
      ],
      "execution_count": 10,
      "outputs": [
        {
          "output_type": "stream",
          "text": [
            "Model Logistic Regression yang terbentuk adalah: \n",
            " LogisticRegression(C=1.0, class_weight=None, dual=False, fit_intercept=True,\n",
            "                   intercept_scaling=1, l1_ratio=None, max_iter=100,\n",
            "                   multi_class='auto', n_jobs=None, penalty='l2',\n",
            "                   random_state=None, solver='lbfgs', tol=0.0001, verbose=0,\n",
            "                   warm_start=False)\n"
          ],
          "name": "stdout"
        },
        {
          "output_type": "stream",
          "text": [
            "/usr/local/lib/python3.6/dist-packages/sklearn/linear_model/_logistic.py:940: ConvergenceWarning: lbfgs failed to converge (status=1):\n",
            "STOP: TOTAL NO. of ITERATIONS REACHED LIMIT.\n",
            "\n",
            "Increase the number of iterations (max_iter) or scale the data as shown in:\n",
            "    https://scikit-learn.org/stable/modules/preprocessing.html\n",
            "Please also refer to the documentation for alternative solver options:\n",
            "    https://scikit-learn.org/stable/modules/linear_model.html#logistic-regression\n",
            "  extra_warning_msg=_LOGISTIC_SOLVER_CONVERGENCE_MSG)\n"
          ],
          "name": "stderr"
        }
      ]
    },
    {
      "cell_type": "markdown",
      "metadata": {
        "id": "gnBDdIUaxUZk",
        "colab_type": "text"
      },
      "source": [
        "Model Training Logistic Regression"
      ]
    },
    {
      "cell_type": "code",
      "metadata": {
        "id": "VUlnXDYLwB8Z",
        "colab_type": "code",
        "colab": {
          "base_uri": "https://localhost:8080/",
          "height": 187
        },
        "outputId": "3564b2ee-4e53-4a92-918a-99de446da701"
      },
      "source": [
        "from sklearn.metrics import classification_report\n",
        "# Predict\n",
        "y_train_pred = log_model.predict(x_train)\n",
        "# Print classification report\n",
        "print('Classification Report Training Model (Logistic Regression) :')\n",
        "print(classification_report(y_train, y_train_pred))"
      ],
      "execution_count": 11,
      "outputs": [
        {
          "output_type": "stream",
          "text": [
            "Classification Report Training Model (Logistic Regression) :\n",
            "              precision    recall  f1-score   support\n",
            "\n",
            "           0       0.83      0.90      0.87      3575\n",
            "           1       0.65      0.49      0.56      1290\n",
            "\n",
            "    accuracy                           0.80      4865\n",
            "   macro avg       0.74      0.70      0.71      4865\n",
            "weighted avg       0.78      0.80      0.79      4865\n",
            "\n"
          ],
          "name": "stdout"
        }
      ]
    },
    {
      "cell_type": "markdown",
      "metadata": {
        "id": "SYQO9y7wxaMR",
        "colab_type": "text"
      },
      "source": [
        "Model Testing Logistic Regression"
      ]
    },
    {
      "cell_type": "code",
      "metadata": {
        "id": "ePEkMG6TxbZ7",
        "colab_type": "code",
        "colab": {
          "base_uri": "https://localhost:8080/",
          "height": 187
        },
        "outputId": "3426e2d9-bc5d-48c0-874d-5b5f4d00a346"
      },
      "source": [
        "from sklearn.metrics import classification_report\n",
        "# Predict\n",
        "y_test_pred = log_model.predict(x_test)\n",
        "# Print classification report\n",
        "print('Classification Report Testing Model (Logistic Regression):')\n",
        "print(classification_report(y_test, y_test_pred))"
      ],
      "execution_count": 12,
      "outputs": [
        {
          "output_type": "stream",
          "text": [
            "Classification Report Testing Model (Logistic Regression):\n",
            "              precision    recall  f1-score   support\n",
            "\n",
            "           0       0.83      0.90      0.87      1539\n",
            "           1       0.64      0.48      0.55       546\n",
            "\n",
            "    accuracy                           0.79      2085\n",
            "   macro avg       0.73      0.69      0.71      2085\n",
            "weighted avg       0.78      0.79      0.78      2085\n",
            "\n"
          ],
          "name": "stdout"
        }
      ]
    },
    {
      "cell_type": "markdown",
      "metadata": {
        "id": "uwGOt_BAxfV-",
        "colab_type": "text"
      },
      "source": [
        "### **Decision Tree Classifier**"
      ]
    },
    {
      "cell_type": "markdown",
      "metadata": {
        "id": "y9RU2QUqx_pU",
        "colab_type": "text"
      },
      "source": [
        "Membuat model Klasifikasi menggunakan Decision Tree Classifier"
      ]
    },
    {
      "cell_type": "code",
      "metadata": {
        "id": "rDnSQ6Ncxi45",
        "colab_type": "code",
        "colab": {
          "base_uri": "https://localhost:8080/",
          "height": 136
        },
        "outputId": "3174ff20-b81d-4313-ab59-3bf6f81be66c"
      },
      "source": [
        "from sklearn.tree import DecisionTreeClassifier\n",
        "tree_model = DecisionTreeClassifier().fit(x_train, y_train)\n",
        "print('Model Decision Tree Classifier yang terbentuk adalah: \\n', tree_model)"
      ],
      "execution_count": 13,
      "outputs": [
        {
          "output_type": "stream",
          "text": [
            "Model Decision Tree Classifier yang terbentuk adalah: \n",
            " DecisionTreeClassifier(ccp_alpha=0.0, class_weight=None, criterion='gini',\n",
            "                       max_depth=None, max_features=None, max_leaf_nodes=None,\n",
            "                       min_impurity_decrease=0.0, min_impurity_split=None,\n",
            "                       min_samples_leaf=1, min_samples_split=2,\n",
            "                       min_weight_fraction_leaf=0.0, presort='deprecated',\n",
            "                       random_state=None, splitter='best')\n"
          ],
          "name": "stdout"
        }
      ]
    },
    {
      "cell_type": "markdown",
      "metadata": {
        "id": "kzKk5h_HyzfR",
        "colab_type": "text"
      },
      "source": [
        "Model Training Decision Tree"
      ]
    },
    {
      "cell_type": "code",
      "metadata": {
        "id": "Aj4Tkp6Fy3Qv",
        "colab_type": "code",
        "colab": {
          "base_uri": "https://localhost:8080/",
          "height": 187
        },
        "outputId": "eef8502c-fb62-4a2c-c87d-2b9e2e3bd52b"
      },
      "source": [
        "from sklearn.metrics import classification_report\n",
        "# Predict\n",
        "y_train_pred = tree_model.predict(x_train)\n",
        "# Print classification report\n",
        "print('Classification Report Training Model (Decision Tree) :')\n",
        "print(classification_report(y_train, y_train_pred))"
      ],
      "execution_count": 14,
      "outputs": [
        {
          "output_type": "stream",
          "text": [
            "Classification Report Training Model (Decision Tree) :\n",
            "              precision    recall  f1-score   support\n",
            "\n",
            "           0       0.99      1.00      1.00      3575\n",
            "           1       1.00      0.98      0.99      1290\n",
            "\n",
            "    accuracy                           1.00      4865\n",
            "   macro avg       1.00      0.99      0.99      4865\n",
            "weighted avg       1.00      1.00      1.00      4865\n",
            "\n"
          ],
          "name": "stdout"
        }
      ]
    },
    {
      "cell_type": "markdown",
      "metadata": {
        "id": "4AZtwA071pnv",
        "colab_type": "text"
      },
      "source": [
        "Model Testing Decision Tree"
      ]
    },
    {
      "cell_type": "code",
      "metadata": {
        "id": "G1Vvgfv0wB-p",
        "colab_type": "code",
        "colab": {
          "base_uri": "https://localhost:8080/",
          "height": 187
        },
        "outputId": "f7465e61-3911-4a28-a960-4ea520c79ca3"
      },
      "source": [
        "from sklearn.metrics import classification_report\n",
        "# Predict\n",
        "y_test_pred = tree_model.predict(x_test)\n",
        "# Print classification report\n",
        "print('Classification Report Testing Model (Decision Tree):')\n",
        "print(classification_report(y_test, y_test_pred))"
      ],
      "execution_count": 15,
      "outputs": [
        {
          "output_type": "stream",
          "text": [
            "Classification Report Testing Model (Decision Tree):\n",
            "              precision    recall  f1-score   support\n",
            "\n",
            "           0       0.82      0.81      0.81      1539\n",
            "           1       0.48      0.49      0.48       546\n",
            "\n",
            "    accuracy                           0.73      2085\n",
            "   macro avg       0.65      0.65      0.65      2085\n",
            "weighted avg       0.73      0.73      0.73      2085\n",
            "\n"
          ],
          "name": "stdout"
        }
      ]
    },
    {
      "cell_type": "markdown",
      "metadata": {
        "id": "pKpl5zLR0m6R",
        "colab_type": "text"
      },
      "source": [
        "### **Naive Bayes Classifier**"
      ]
    },
    {
      "cell_type": "markdown",
      "metadata": {
        "id": "KyaW_TJY2vLT",
        "colab_type": "text"
      },
      "source": [
        "Membuat model Klasifikasi menggunakan Naive Bayes Classifier"
      ]
    },
    {
      "cell_type": "code",
      "metadata": {
        "id": "WBighTGu0qlO",
        "colab_type": "code",
        "colab": {
          "base_uri": "https://localhost:8080/",
          "height": 51
        },
        "outputId": "2cdbe7d5-3f28-42f7-d8be-db8f520d41fa"
      },
      "source": [
        "from sklearn.naive_bayes import GaussianNB\n",
        "gnb_model = GaussianNB().fit(x_train, y_train)\n",
        "print('Model Naive Bayes Classifier yang terbentuk adalah: \\n', gnb_model)"
      ],
      "execution_count": 16,
      "outputs": [
        {
          "output_type": "stream",
          "text": [
            "Model Naive Bayes Classifier yang terbentuk adalah: \n",
            " GaussianNB(priors=None, var_smoothing=1e-09)\n"
          ],
          "name": "stdout"
        }
      ]
    },
    {
      "cell_type": "markdown",
      "metadata": {
        "id": "ZnBe-GuM1lZF",
        "colab_type": "text"
      },
      "source": [
        "Model Training Naive Bayes"
      ]
    },
    {
      "cell_type": "code",
      "metadata": {
        "id": "vLyC7v7a1n1B",
        "colab_type": "code",
        "colab": {
          "base_uri": "https://localhost:8080/",
          "height": 187
        },
        "outputId": "375b8d96-971e-4053-a5b0-903c90a65771"
      },
      "source": [
        "from sklearn.metrics import classification_report\n",
        "# Predict\n",
        "y_train_pred = gnb_model.predict(x_train)\n",
        "# Print classification report\n",
        "print('Classification Report Training Model (Naive Bayes) :')\n",
        "print(classification_report(y_train, y_train_pred))"
      ],
      "execution_count": 17,
      "outputs": [
        {
          "output_type": "stream",
          "text": [
            "Classification Report Training Model (Naive Bayes) :\n",
            "              precision    recall  f1-score   support\n",
            "\n",
            "           0       0.88      0.75      0.81      3575\n",
            "           1       0.51      0.72      0.60      1290\n",
            "\n",
            "    accuracy                           0.74      4865\n",
            "   macro avg       0.70      0.73      0.70      4865\n",
            "weighted avg       0.78      0.74      0.76      4865\n",
            "\n"
          ],
          "name": "stdout"
        }
      ]
    },
    {
      "cell_type": "markdown",
      "metadata": {
        "id": "bJTEp39u2Jwc",
        "colab_type": "text"
      },
      "source": [
        "Model Testing Naive Bayes"
      ]
    },
    {
      "cell_type": "code",
      "metadata": {
        "id": "IqqsO5Tb2Mgk",
        "colab_type": "code",
        "colab": {
          "base_uri": "https://localhost:8080/",
          "height": 187
        },
        "outputId": "b75826f9-51e7-4135-fe37-0ccd8a0565d3"
      },
      "source": [
        "from sklearn.metrics import classification_report\n",
        "# Predict\n",
        "y_test_pred = gnb_model.predict(x_test)\n",
        "# Print classification report\n",
        "print('Classification Report Testing Model (Naive Bayes):')\n",
        "print(classification_report(y_test, y_test_pred))"
      ],
      "execution_count": 18,
      "outputs": [
        {
          "output_type": "stream",
          "text": [
            "Classification Report Testing Model (Naive Bayes):\n",
            "              precision    recall  f1-score   support\n",
            "\n",
            "           0       0.87      0.75      0.80      1539\n",
            "           1       0.49      0.67      0.56       546\n",
            "\n",
            "    accuracy                           0.73      2085\n",
            "   macro avg       0.68      0.71      0.68      2085\n",
            "weighted avg       0.77      0.73      0.74      2085\n",
            "\n"
          ],
          "name": "stdout"
        }
      ]
    },
    {
      "cell_type": "markdown",
      "metadata": {
        "id": "J1eQbCmX4M1l",
        "colab_type": "text"
      },
      "source": [
        "## **Ringkasan Model**"
      ]
    },
    {
      "cell_type": "markdown",
      "metadata": {
        "id": "Pr4A7zwE4RAH",
        "colab_type": "text"
      },
      "source": [
        "1. Logistic Regression (akurasi training 80%, akurasi testing 79%)\n",
        "2. Decision Tree Classifier (akurasi training 100%, akurasi testing 73%)\n",
        "3. Naive Bayes Classifier (akurasi training 74%, akurasi testing 73%)"
      ]
    },
    {
      "cell_type": "markdown",
      "metadata": {
        "id": "UfoH928x35FM",
        "colab_type": "text"
      },
      "source": [
        "### **Kesimpulan**"
      ]
    },
    {
      "cell_type": "markdown",
      "metadata": {
        "id": "1Gw1HC5P37OM",
        "colab_type": "text"
      },
      "source": [
        "\n",
        "Berdasarkan hasil dan ringkasa model, dapat disimpulkan bahwa model dengan akurasi terbaik dimiliki oleh Logistic Regression. Hal ini dikarenakan performa dari model Logistic Regression cenderung mampu memprediksi sama baiknya di fase training maupun testing.\n",
        "\n",
        "Akan tetapi hal ini tidak menjadikan kita untuk menarik kesimpulan bahwsannya jika untuk melakukan pemodelan apapun maka digunakan Logistic Regression, kita tetap harus melakukan banyak percobaan model untuk menentukan mana yang terbaik."
      ]
    },
    {
      "cell_type": "code",
      "metadata": {
        "id": "GqYri2_HwCAj",
        "colab_type": "code",
        "colab": {}
      },
      "source": [
        ""
      ],
      "execution_count": null,
      "outputs": []
    },
    {
      "cell_type": "code",
      "metadata": {
        "id": "XY0n6O-SwCCX",
        "colab_type": "code",
        "colab": {}
      },
      "source": [
        ""
      ],
      "execution_count": null,
      "outputs": []
    }
  ]
}